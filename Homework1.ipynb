{
  "nbformat": 4,
  "nbformat_minor": 0,
  "metadata": {
    "accelerator": "GPU",
    "colab": {
      "name": "Copia di Homework1.ipynb",
      "provenance": [],
      "collapsed_sections": [
        "VeiThEAm_Gbk"
      ]
    },
    "kernelspec": {
      "display_name": "Python 3",
      "name": "python3"
    }
  },
  "cells": [
    {
      "cell_type": "markdown",
      "metadata": {
        "id": "JCOUjUbaOgWS"
      },
      "source": [
        "<h1>List of attempts</h1>\n",
        "<ol>\n",
        "  <li>\n",
        "    <h3>Adapted laboratory's model to competition</h3>\n",
        "    <p>Increased input sizes from 256 -> 512, poor validation accuracy: 0.54.\n",
        "    probably due to overfitting</p>\n",
        "  </li>\n",
        "  <li>\n",
        "    <h3>Data augmentation</h3>\n",
        "    <p>validation accuracy: 0.58, still too low</p>\n",
        "  </li>\n",
        "  <li>\n",
        "    <h3>Adding dropout layer to conv</h3>\n",
        "    <p>val acc: 0.54, train acc: 0.78, still poor generalization</p>\n",
        "  </li>\n",
        "  <li>\n",
        "    <h3>Adding dense layer, increasing its size 512->1024 and dropout</h3>\n",
        "    <p>val acc: 0.35 even worse, slow to converge</p>\n",
        "  </li>\n",
        "  <li>\n",
        "    <h3>Transfer learning attempt</h3>\n",
        "    <p>Real improvements val acc: 0.82, still have to tune!</p>\n",
        "  </li>\n",
        "  <li>\n",
        "    <h3>VGG19 trial</h3>\n",
        "    <p>Too slow to learn. Back to vgg16. (Forgot to include vgg19preproc...)</p>\n",
        "  </li>\n",
        "  <li>\n",
        "    <h3>VGG16 hyperparameters tuning</h3>\n",
        "    <p>Adjusted data augmentation parameters and removed final dense layer, double pass fine tuning and used all training examples for final model</p>\n",
        "  </li>\n",
        "</ol>"
      ]
    },
    {
      "cell_type": "code",
      "metadata": {
        "id": "OMsEylXx25ex"
      },
      "source": [
        "from IPython.core.interactiveshell import InteractiveShell\n",
        "InteractiveShell.ast_node_interactivity = \"all\""
      ],
      "execution_count": 1,
      "outputs": []
    },
    {
      "cell_type": "code",
      "metadata": {
        "id": "1TTsqyOw29KN"
      },
      "source": [
        "import os\n",
        "import tensorflow as tf\n",
        "import numpy as np\n",
        "\n",
        "SEED = 1234\n",
        "\n",
        "# Making results reproducible\n",
        "tf.random.set_seed(SEED)  \n",
        "np.random.seed(SEED)\n",
        "\n",
        "# Get current working directory\n",
        "cwd = os.getcwd()"
      ],
      "execution_count": 2,
      "outputs": []
    },
    {
      "cell_type": "code",
      "metadata": {
        "id": "eiJxDJxZ1khk"
      },
      "source": [
        "from tensorflow.keras.preprocessing.image import ImageDataGenerator\n",
        "from keras.applications.vgg16 import preprocess_input \n",
        "\n",
        "apply_data_augmentation = True\n",
        "\n",
        "# Create training ImageDataGenerator object\n",
        "if apply_data_augmentation:\n",
        "    train_data_gen = ImageDataGenerator(horizontal_flip=True,\n",
        "                                        rotation_range=20,\n",
        "                                        width_shift_range=20.0,\n",
        "                                        height_shift_range=20.0,\n",
        "                                        zoom_range=0.1,\n",
        "                                        preprocessing_function=preprocess_input)  # to apply normalization\n",
        "else:\n",
        "    train_data_gen = ImageDataGenerator(preprocessing_function=preprocess_input)\n",
        "\n",
        "# Create validation and test ImageDataGenerator objects\n",
        "valid_data_gen = ImageDataGenerator(preprocessing_function=preprocess_input)\n",
        "test_data_gen = ImageDataGenerator(preprocessing_function=preprocess_input)"
      ],
      "execution_count": 3,
      "outputs": []
    },
    {
      "cell_type": "code",
      "metadata": {
        "id": "NoU2MklHyqea"
      },
      "source": [
        "from google.colab import drive\n",
        "drive.mount('/content/drive')"
      ],
      "execution_count": null,
      "outputs": []
    },
    {
      "cell_type": "code",
      "metadata": {
        "id": "SB5h4dwePdq4"
      },
      "source": [
        "!ls"
      ],
      "execution_count": null,
      "outputs": []
    },
    {
      "cell_type": "code",
      "metadata": {
        "id": "5y_beLQ106TD"
      },
      "source": [
        "!unzip '/content/drive/My Drive/Homework1/artificial-neural-networks-and-deep-learning-2020.zip'"
      ],
      "execution_count": null,
      "outputs": []
    },
    {
      "cell_type": "code",
      "metadata": {
        "id": "D-F0JVLqKRGf"
      },
      "source": [
        "from os import listdir\n",
        "from os.path import isfile, join\n",
        "import pandas as pd\n",
        "import json\n",
        "\n",
        "# Opening JSON file \n",
        "with open('MaskDataset/train_gt.json',) as f:\n",
        "  # returns JSON object as  \n",
        "  # a dictionary \n",
        "  data = json.load(f)\n",
        "\n",
        "# Using dataframes for loading the dataset\n",
        "newDict = {}\n",
        "newDict[\"filename\"] = data.keys()\n",
        "newDict[\"class\"] = [str(i) for i in data.values()]\n",
        "\n",
        "df = pd.DataFrame.from_dict(newDict)\n",
        "\n",
        "# Train/validation split 90/10\n",
        "msk = np.random.rand(len(df)) < 0.9\n",
        "traindf = df[msk]\n",
        "validdf = df[~msk]\n",
        "\n",
        "\n",
        "# Loading test set\n",
        "mypath = 'MaskDataset/test'\n",
        "onlyfiles = [f for f in listdir(mypath) if isfile(join(mypath, f))]\n",
        " \n",
        "newDict = {}\n",
        "newDict[\"filename\"] = onlyfiles\n",
        "\n",
        "testdf = pd.DataFrame.from_dict(newDict)\n",
        "\n",
        "\n",
        "# Getting a summary of the splits\n",
        "traindf['filename'].count()\n",
        "print()\n",
        "\n",
        "validdf['filename'].count()\n",
        "print()\n",
        "\n",
        "traindf['class'].value_counts()\n",
        "print()\n",
        "\n",
        "validdf['class'].value_counts()\n",
        "print()\n",
        "\n",
        "testdf.count()"
      ],
      "execution_count": null,
      "outputs": []
    },
    {
      "cell_type": "code",
      "metadata": {
        "id": "O_hJ4t7U7oYn"
      },
      "source": [
        "# Create generators to read images from dataset directory\n",
        "# -------------------------------------------------------\n",
        "dataset_dir = os.path.join(cwd, 'MaskDataset')\n",
        "\n",
        "# Batch size\n",
        "bs = 16\n",
        "\n",
        "# img shape\n",
        "img_h = 224\n",
        "img_w = 224\n",
        "\n",
        "num_classes=3\n",
        "\n",
        "# Training\n",
        "training_dir = os.path.join(dataset_dir, 'training')\n",
        "train_gen = train_data_gen.flow_from_dataframe(dataframe=traindf, # used full df for final model\n",
        "                                               directory=training_dir,\n",
        "                                               x_col=\"filename\", y_col=\"class\",\n",
        "                                               class_mode=\"categorical\",\n",
        "                                               batch_size=bs,\n",
        "                                               shuffle=True,\n",
        "                                               target_size=(img_h,img_w),\n",
        "                                               seed=SEED)  # targets are directly converted into one-hot vectors\n",
        "\n",
        "# Validation\n",
        "valid_gen = valid_data_gen.flow_from_dataframe(dataframe=validdf,\n",
        "                                             directory=training_dir,\n",
        "                                             x_col=\"filename\", y_col=\"class\",\n",
        "                                             class_mode=\"categorical\",\n",
        "                                             batch_size=bs,\n",
        "                                             shuffle=False,\n",
        "                                             target_size=(img_h,img_w),\n",
        "                                             seed=SEED)\n",
        "\n",
        "# Test\n",
        "test_dir = os.path.join(dataset_dir, 'test')\n",
        "test_gen = test_data_gen.flow_from_dataframe(dataframe=testdf,\n",
        "                                             directory=test_dir,\n",
        "                                             x_col=\"filename\", y_col=None,\n",
        "                                             class_mode=None,\n",
        "                                             batch_size=1,\n",
        "                                             shuffle=False,\n",
        "                                             target_size=(img_h,img_w),\n",
        "                                             seed=SEED)"
      ],
      "execution_count": null,
      "outputs": []
    },
    {
      "cell_type": "code",
      "metadata": {
        "id": "0IbSHeEx9C4i"
      },
      "source": [
        "# Create Dataset objects\n",
        "# ----------------------\n",
        "\n",
        "# Training\n",
        "train_dataset = tf.data.Dataset.from_generator(lambda: train_gen,\n",
        "                                               output_types=(tf.float32, tf.float32),\n",
        "                                               output_shapes=([None, img_h, img_w, 3], [None, num_classes]))\n",
        "\n",
        "# Repeat\n",
        "# Without calling the repeat function the dataset \n",
        "# will be empty after consuming all the images\n",
        "train_dataset = train_dataset.repeat()\n",
        "\n",
        "# Validation\n",
        "# ----------\n",
        "valid_dataset = tf.data.Dataset.from_generator(lambda: valid_gen, \n",
        "                                               output_types=(tf.float32, tf.float32),\n",
        "                                               output_shapes=([None, img_h, img_w, 3], [None, num_classes]))\n",
        "\n",
        "# Repeat\n",
        "valid_dataset = valid_dataset.repeat()\n",
        "\n",
        "# Test\n",
        "# ----\n",
        "test_dataset = tf.data.Dataset.from_generator(lambda: test_gen,\n",
        "                                              output_types=(tf.float32),\n",
        "                                              output_shapes=([None, img_h, img_w, 3]))"
      ],
      "execution_count": 9,
      "outputs": []
    },
    {
      "cell_type": "code",
      "metadata": {
        "id": "N5rn97vNnxXT"
      },
      "source": [
        "vgg = tf.keras.applications.VGG16(weights='imagenet', include_top=False, input_shape=(img_w, img_h, 3))\n",
        "\n",
        "#vgg.summary()"
      ],
      "execution_count": null,
      "outputs": []
    },
    {
      "cell_type": "code",
      "metadata": {
        "id": "I2nL5iFOn70V"
      },
      "source": [
        "# Create Model\n",
        "# ------------\n",
        "\n",
        "finetuning = True\n",
        "\n",
        "if finetuning:\n",
        "    freeze_until = 15 # layer from which we want to fine-tune\n",
        "    for layer in vgg.layers[:freeze_until]:\n",
        "      layer.trainable = False\n",
        "else:\n",
        "    vgg.trainable = False\n",
        "    \n",
        "model = tf.keras.Sequential()\n",
        "model.add(vgg)\n",
        "model.add(tf.keras.layers.Flatten())\n",
        "model.add(tf.keras.layers.Dense(units=num_classes, activation='softmax'))\n",
        "\n",
        "# Visualize created model as a table\n",
        "model.summary()"
      ],
      "execution_count": null,
      "outputs": []
    },
    {
      "cell_type": "code",
      "metadata": {
        "id": "k6fX2MeR-U48"
      },
      "source": [
        "# Optimization params\n",
        "# -------------------\n",
        "\n",
        "# Loss\n",
        "loss = tf.keras.losses.CategoricalCrossentropy()\n",
        "\n",
        "# learning rate\n",
        "lr = 1e-4\n",
        "optimizer = tf.keras.optimizers.Adam(learning_rate=lr)\n",
        "# -------------------\n",
        "\n",
        "# Validation metrics\n",
        "# ------------------\n",
        "\n",
        "metrics = ['accuracy']\n",
        "# ------------------\n",
        "\n",
        "# Compile Model\n",
        "model.compile(optimizer=optimizer, loss=loss, metrics=metrics)"
      ],
      "execution_count": 12,
      "outputs": []
    },
    {
      "cell_type": "code",
      "metadata": {
        "id": "lzpRKbkJ-bea"
      },
      "source": [
        "import os\n",
        "from datetime import datetime\n",
        "\n",
        "# cwd = os.getcwd()\n",
        "\n",
        "# exps_dir = os.path.join('/content/drive/My Drive/Keras3/', 'classification_experiments')\n",
        "# if not os.path.exists(exps_dir):\n",
        "#     os.makedirs(exps_dir)\n",
        "\n",
        "# now = datetime.now().strftime('%b%d_%H-%M-%S')\n",
        "\n",
        "# model_name = 'CNN'\n",
        "\n",
        "# exp_dir = os.path.join(exps_dir, model_name + '_' + str(now))\n",
        "# if not os.path.exists(exp_dir):\n",
        "#     os.makedirs(exp_dir)\n",
        "    \n",
        "callbacks = []\n",
        "\n",
        "# Model callbacks\n",
        "# ----------------\n",
        "\n",
        "# By default shows losses and metrics for both training and validation\n",
        "# tb_callback = tf.keras.callbacks.TensorBoard(log_dir=tb_dir,\n",
        "#                                              profile_batch=0,\n",
        "#                                              histogram_freq=1)  # if 1 shows weights histograms\n",
        "# callbacks.append(tb_callback)\n",
        "\n",
        "# Early Stopping\n",
        "# --------------\n",
        "early_stop = True\n",
        "if early_stop:\n",
        "    es_callback = tf.keras.callbacks.EarlyStopping(monitor='val_accuracy', patience=10, restore_best_weights=True)\n",
        "    callbacks.append(es_callback)\n",
        "\n",
        "# Learning rate scheduler\n",
        "# --------------\n",
        "callbacks.append(tf.keras.callbacks.ReduceLROnPlateau())"
      ],
      "execution_count": 13,
      "outputs": []
    },
    {
      "cell_type": "code",
      "metadata": {
        "id": "5b_KC7_6y0vl"
      },
      "source": [
        "model.fit(x=train_dataset,\n",
        "          epochs=50,  #### 15 epochs for final evaluation\n",
        "          steps_per_epoch=len(train_gen),\n",
        "          validation_data=valid_dataset,\n",
        "          validation_steps=len(valid_gen), \n",
        "          callbacks=callbacks\n",
        "          )"
      ],
      "execution_count": null,
      "outputs": []
    },
    {
      "cell_type": "code",
      "metadata": {
        "id": "9daj3kR8jP7D"
      },
      "source": [
        "model.evaluate(valid_dataset,steps=len(valid_gen))"
      ],
      "execution_count": null,
      "outputs": []
    },
    {
      "cell_type": "code",
      "metadata": {
        "id": "NIKTYtirzllC"
      },
      "source": [
        "# Ultra fine_tuning\n",
        "\n",
        "for layer in vgg.layers:\n",
        "  layer.trainable = True\n",
        "\n",
        "# learning rate\n",
        "lr = 1e-5\n",
        "optimizer = tf.keras.optimizers.Adam(learning_rate=lr)\n",
        "# -------------------\n",
        "\n",
        "model.compile(optimizer=optimizer, loss=loss, metrics=metrics)"
      ],
      "execution_count": 15,
      "outputs": []
    },
    {
      "cell_type": "code",
      "metadata": {
        "id": "hLYdm3UDz2W8"
      },
      "source": [
        "model.fit(x=train_dataset,\n",
        "          epochs=50,  #### 15 epochs for final evaluation\n",
        "          steps_per_epoch=len(train_gen),\n",
        "          validation_data=valid_dataset,\n",
        "          validation_steps=len(valid_gen), \n",
        "          callbacks=callbacks)"
      ],
      "execution_count": null,
      "outputs": []
    },
    {
      "cell_type": "code",
      "metadata": {
        "id": "uTcmP6MB4YdZ"
      },
      "source": [
        "model.evaluate(valid_dataset,steps=len(valid_gen))"
      ],
      "execution_count": null,
      "outputs": []
    },
    {
      "cell_type": "code",
      "metadata": {
        "id": "YJxke-CWop6z"
      },
      "source": [
        "import os\n",
        "from datetime import datetime\n",
        "\n",
        "def create_csv(results, results_dir='./'):\n",
        "\n",
        "    csv_fname = 'results_'\n",
        "    csv_fname += datetime.now().strftime('%b%d_%H-%M-%S') + '.csv'\n",
        "\n",
        "    with open(os.path.join(results_dir, csv_fname), 'w') as f:\n",
        "\n",
        "        f.write('Id,Category\\n')\n",
        "\n",
        "        for key, value in results.items():\n",
        "            f.write(key + ',' + str(value) + '\\n')"
      ],
      "execution_count": 17,
      "outputs": []
    },
    {
      "cell_type": "code",
      "metadata": {
        "id": "K4oz7xaQ9C7y"
      },
      "source": [
        "test_gen.reset()\n",
        "pred = model.predict(test_gen,\n",
        "                    steps=len(test_gen),\n",
        "                    verbose=1)"
      ],
      "execution_count": null,
      "outputs": []
    },
    {
      "cell_type": "code",
      "metadata": {
        "id": "2EJ67j8e9bSx"
      },
      "source": [
        "predicted_class_indices=np.argmax(pred,axis=1)\n",
        "\n",
        "filenames = test_gen.filenames"
      ],
      "execution_count": 19,
      "outputs": []
    },
    {
      "cell_type": "code",
      "metadata": {
        "id": "luOXcLkqrBMS"
      },
      "source": [
        "results = dict(zip(filenames, predicted_class_indices))\n",
        "\n",
        "create_csv(results, \"drive/MyDrive/Homework1\")"
      ],
      "execution_count": null,
      "outputs": []
    },
    {
      "cell_type": "markdown",
      "metadata": {
        "id": "VeiThEAm_Gbk"
      },
      "source": [
        "# Some useful snippets used for visualization"
      ]
    },
    {
      "cell_type": "code",
      "metadata": {
        "id": "HOETyrtmG7u9",
        "colab": {
          "base_uri": "https://localhost:8080/",
          "height": 241
        },
        "outputId": "0861e6b2-72f5-492c-bb9e-a78b979af1e5"
      },
      "source": [
        "from PIL import Image\n",
        "\n",
        "ite = iter(train_dataset)\n",
        "\n",
        "# Get a test image\n",
        "img = next(ite)[0]\n",
        "\n",
        "# Visualize the image\n",
        "Image.fromarray(np.uint8(np.array(img[0])))"
      ],
      "execution_count": null,
      "outputs": [
        {
          "output_type": "execute_result",
          "data": {
            "image/png": "[encoded data removed]",
            "text/plain": [
              "<PIL.Image.Image image mode=RGB size=224x224 at 0x7F36281DB470>"
            ]
          },
          "metadata": {
            "tags": []
          },
          "execution_count": 135
        }
      ]
    },
    {
      "cell_type": "code",
      "metadata": {
        "id": "QwAG7WuLgaTm"
      },
      "source": [
        "#Visual proof\n",
        "from PIL import Image\n",
        "\n",
        "test_iter = iter(test_dataset)\n",
        "\n",
        "# Get a test image\n",
        "test_img = next(test_iter)\n",
        "\n",
        "result = model(test_img)\n",
        "\n",
        "print(\"Predicted class (0=None,1=All,2=Someone): {}\".format(np.argmax(result)))\n",
        "\n",
        "# Visualize the image\n",
        "Image.fromarray(np.uint8(np.array(test_img[0])*255.))"
      ],
      "execution_count": null,
      "outputs": []
    }
  ]
}